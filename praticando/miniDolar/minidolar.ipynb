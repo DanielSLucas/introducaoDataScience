{
 "cells": [
  {
   "cell_type": "code",
   "execution_count": 225,
   "metadata": {},
   "outputs": [],
   "source": [
    "from sklearn.neural_network import MLPRegressor\n",
    "from sklearn.model_selection import train_test_split\n",
    "from sklearn.preprocessing import MinMaxScaler\n",
    "import pandas as pd\n",
    "import numpy as np\n",
    "from sklearn.metrics import plot_confusion_matrix\n",
    "import matplotlib.pyplot as plt\n",
    "import seaborn as sns"
   ]
  },
  {
   "cell_type": "code",
   "execution_count": 226,
   "metadata": {},
   "outputs": [
    {
     "data": {
      "text/html": [
       "<div>\n",
       "<style scoped>\n",
       "    .dataframe tbody tr th:only-of-type {\n",
       "        vertical-align: middle;\n",
       "    }\n",
       "\n",
       "    .dataframe tbody tr th {\n",
       "        vertical-align: top;\n",
       "    }\n",
       "\n",
       "    .dataframe thead th {\n",
       "        text-align: right;\n",
       "    }\n",
       "</style>\n",
       "<table border=\"1\" class=\"dataframe\">\n",
       "  <thead>\n",
       "    <tr style=\"text-align: right;\">\n",
       "      <th></th>\n",
       "      <th>&lt;DATE&gt;</th>\n",
       "      <th>&lt;TIME&gt;</th>\n",
       "      <th>&lt;OPEN&gt;</th>\n",
       "      <th>&lt;HIGH&gt;</th>\n",
       "      <th>&lt;LOW&gt;</th>\n",
       "      <th>&lt;CLOSE&gt;</th>\n",
       "      <th>&lt;TICKVOL&gt;</th>\n",
       "      <th>&lt;VOL&gt;</th>\n",
       "      <th>&lt;SPREAD&gt;</th>\n",
       "    </tr>\n",
       "  </thead>\n",
       "  <tbody>\n",
       "    <tr>\n",
       "      <th>0</th>\n",
       "      <td>2022.11.16</td>\n",
       "      <td>09:00:00</td>\n",
       "      <td>5360.0</td>\n",
       "      <td>5382.5</td>\n",
       "      <td>5358.0</td>\n",
       "      <td>5371.0</td>\n",
       "      <td>8259</td>\n",
       "      <td>20036</td>\n",
       "      <td>500</td>\n",
       "    </tr>\n",
       "    <tr>\n",
       "      <th>1</th>\n",
       "      <td>2022.11.16</td>\n",
       "      <td>09:01:00</td>\n",
       "      <td>5372.0</td>\n",
       "      <td>5388.5</td>\n",
       "      <td>5364.0</td>\n",
       "      <td>5384.0</td>\n",
       "      <td>11259</td>\n",
       "      <td>25088</td>\n",
       "      <td>500</td>\n",
       "    </tr>\n",
       "    <tr>\n",
       "      <th>2</th>\n",
       "      <td>2022.11.16</td>\n",
       "      <td>09:02:00</td>\n",
       "      <td>5384.5</td>\n",
       "      <td>5385.5</td>\n",
       "      <td>5373.0</td>\n",
       "      <td>5383.0</td>\n",
       "      <td>7918</td>\n",
       "      <td>18076</td>\n",
       "      <td>500</td>\n",
       "    </tr>\n",
       "    <tr>\n",
       "      <th>3</th>\n",
       "      <td>2022.11.16</td>\n",
       "      <td>09:03:00</td>\n",
       "      <td>5383.0</td>\n",
       "      <td>5394.5</td>\n",
       "      <td>5381.0</td>\n",
       "      <td>5387.0</td>\n",
       "      <td>11709</td>\n",
       "      <td>25396</td>\n",
       "      <td>500</td>\n",
       "    </tr>\n",
       "    <tr>\n",
       "      <th>4</th>\n",
       "      <td>2022.11.16</td>\n",
       "      <td>09:04:00</td>\n",
       "      <td>5387.0</td>\n",
       "      <td>5393.0</td>\n",
       "      <td>5380.0</td>\n",
       "      <td>5386.0</td>\n",
       "      <td>8417</td>\n",
       "      <td>21503</td>\n",
       "      <td>500</td>\n",
       "    </tr>\n",
       "  </tbody>\n",
       "</table>\n",
       "</div>"
      ],
      "text/plain": [
       "       <DATE>    <TIME>  <OPEN>  <HIGH>   <LOW>  <CLOSE>  <TICKVOL>  <VOL>  \\\n",
       "0  2022.11.16  09:00:00  5360.0  5382.5  5358.0   5371.0       8259  20036   \n",
       "1  2022.11.16  09:01:00  5372.0  5388.5  5364.0   5384.0      11259  25088   \n",
       "2  2022.11.16  09:02:00  5384.5  5385.5  5373.0   5383.0       7918  18076   \n",
       "3  2022.11.16  09:03:00  5383.0  5394.5  5381.0   5387.0      11709  25396   \n",
       "4  2022.11.16  09:04:00  5387.0  5393.0  5380.0   5386.0       8417  21503   \n",
       "\n",
       "   <SPREAD>  \n",
       "0       500  \n",
       "1       500  \n",
       "2       500  \n",
       "3       500  \n",
       "4       500  "
      ]
     },
     "execution_count": 226,
     "metadata": {},
     "output_type": "execute_result"
    }
   ],
   "source": [
    "df = pd.read_csv('./WDO$N_M1_202211160900_202211161829.csv', sep='\\t')\n",
    "df.head()"
   ]
  },
  {
   "cell_type": "code",
   "execution_count": 227,
   "metadata": {},
   "outputs": [
    {
     "name": "stdout",
     "output_type": "stream",
     "text": [
      "<class 'pandas.core.frame.DataFrame'>\n",
      "RangeIndex: 570 entries, 0 to 569\n",
      "Data columns (total 9 columns):\n",
      " #   Column   Non-Null Count  Dtype  \n",
      "---  ------   --------------  -----  \n",
      " 0   date     570 non-null    object \n",
      " 1   time     570 non-null    object \n",
      " 2   open     570 non-null    float64\n",
      " 3   high     570 non-null    float64\n",
      " 4   low      570 non-null    float64\n",
      " 5   close    570 non-null    float64\n",
      " 6   tickvol  570 non-null    int64  \n",
      " 7   vol      570 non-null    int64  \n",
      " 8   spread   570 non-null    int64  \n",
      "dtypes: float64(4), int64(3), object(2)\n",
      "memory usage: 40.2+ KB\n"
     ]
    }
   ],
   "source": [
    "df = df.rename(columns={\n",
    "  \"<DATE>\": \"date\", \n",
    "  \"<TIME>\": \"time\",\n",
    "  \"<OPEN>\": \"open\",\n",
    "  \"<HIGH>\": \"high\",\n",
    "  \"<LOW>\": \"low\",\n",
    "  \"<CLOSE>\": \"close\",\n",
    "  \"<TICKVOL>\": \"tickvol\",\n",
    "  \"<VOL>\": \"vol\",\n",
    "  \"<SPREAD>\": \"spread\",\n",
    "})\n",
    "df.info()"
   ]
  },
  {
   "cell_type": "code",
   "execution_count": 228,
   "metadata": {},
   "outputs": [
    {
     "data": {
      "text/html": [
       "<div>\n",
       "<style scoped>\n",
       "    .dataframe tbody tr th:only-of-type {\n",
       "        vertical-align: middle;\n",
       "    }\n",
       "\n",
       "    .dataframe tbody tr th {\n",
       "        vertical-align: top;\n",
       "    }\n",
       "\n",
       "    .dataframe thead th {\n",
       "        text-align: right;\n",
       "    }\n",
       "</style>\n",
       "<table border=\"1\" class=\"dataframe\">\n",
       "  <thead>\n",
       "    <tr style=\"text-align: right;\">\n",
       "      <th></th>\n",
       "      <th>open</th>\n",
       "      <th>high</th>\n",
       "      <th>low</th>\n",
       "      <th>close</th>\n",
       "      <th>tickvol</th>\n",
       "      <th>vol</th>\n",
       "      <th>spread</th>\n",
       "    </tr>\n",
       "    <tr>\n",
       "      <th>datetime</th>\n",
       "      <th></th>\n",
       "      <th></th>\n",
       "      <th></th>\n",
       "      <th></th>\n",
       "      <th></th>\n",
       "      <th></th>\n",
       "      <th></th>\n",
       "    </tr>\n",
       "  </thead>\n",
       "  <tbody>\n",
       "    <tr>\n",
       "      <th>2022-11-16 09:00:00</th>\n",
       "      <td>5360.0</td>\n",
       "      <td>5382.5</td>\n",
       "      <td>5358.0</td>\n",
       "      <td>5371.0</td>\n",
       "      <td>8259</td>\n",
       "      <td>20036</td>\n",
       "      <td>500</td>\n",
       "    </tr>\n",
       "    <tr>\n",
       "      <th>2022-11-16 09:01:00</th>\n",
       "      <td>5372.0</td>\n",
       "      <td>5388.5</td>\n",
       "      <td>5364.0</td>\n",
       "      <td>5384.0</td>\n",
       "      <td>11259</td>\n",
       "      <td>25088</td>\n",
       "      <td>500</td>\n",
       "    </tr>\n",
       "    <tr>\n",
       "      <th>2022-11-16 09:02:00</th>\n",
       "      <td>5384.5</td>\n",
       "      <td>5385.5</td>\n",
       "      <td>5373.0</td>\n",
       "      <td>5383.0</td>\n",
       "      <td>7918</td>\n",
       "      <td>18076</td>\n",
       "      <td>500</td>\n",
       "    </tr>\n",
       "    <tr>\n",
       "      <th>2022-11-16 09:03:00</th>\n",
       "      <td>5383.0</td>\n",
       "      <td>5394.5</td>\n",
       "      <td>5381.0</td>\n",
       "      <td>5387.0</td>\n",
       "      <td>11709</td>\n",
       "      <td>25396</td>\n",
       "      <td>500</td>\n",
       "    </tr>\n",
       "    <tr>\n",
       "      <th>2022-11-16 09:04:00</th>\n",
       "      <td>5387.0</td>\n",
       "      <td>5393.0</td>\n",
       "      <td>5380.0</td>\n",
       "      <td>5386.0</td>\n",
       "      <td>8417</td>\n",
       "      <td>21503</td>\n",
       "      <td>500</td>\n",
       "    </tr>\n",
       "  </tbody>\n",
       "</table>\n",
       "</div>"
      ],
      "text/plain": [
       "                       open    high     low   close  tickvol    vol  spread\n",
       "datetime                                                                   \n",
       "2022-11-16 09:00:00  5360.0  5382.5  5358.0  5371.0     8259  20036     500\n",
       "2022-11-16 09:01:00  5372.0  5388.5  5364.0  5384.0    11259  25088     500\n",
       "2022-11-16 09:02:00  5384.5  5385.5  5373.0  5383.0     7918  18076     500\n",
       "2022-11-16 09:03:00  5383.0  5394.5  5381.0  5387.0    11709  25396     500\n",
       "2022-11-16 09:04:00  5387.0  5393.0  5380.0  5386.0     8417  21503     500"
      ]
     },
     "execution_count": 228,
     "metadata": {},
     "output_type": "execute_result"
    }
   ],
   "source": [
    "df['datetime'] = pd.to_datetime(df['date'] + df['time'], format='%Y.%m.%d%H:%M:%S')\n",
    "\n",
    "df.drop(\"date\", axis=1, inplace=True)\n",
    "df.drop(\"time\", axis=1, inplace=True)\n",
    "\n",
    "df.set_index('datetime', inplace=True)\n",
    "\n",
    "df.head()"
   ]
  },
  {
   "cell_type": "code",
   "execution_count": 229,
   "metadata": {},
   "outputs": [
    {
     "data": {
      "text/html": [
       "<div>\n",
       "<style scoped>\n",
       "    .dataframe tbody tr th:only-of-type {\n",
       "        vertical-align: middle;\n",
       "    }\n",
       "\n",
       "    .dataframe tbody tr th {\n",
       "        vertical-align: top;\n",
       "    }\n",
       "\n",
       "    .dataframe thead th {\n",
       "        text-align: right;\n",
       "    }\n",
       "</style>\n",
       "<table border=\"1\" class=\"dataframe\">\n",
       "  <thead>\n",
       "    <tr style=\"text-align: right;\">\n",
       "      <th></th>\n",
       "      <th>open</th>\n",
       "      <th>high</th>\n",
       "      <th>low</th>\n",
       "      <th>close</th>\n",
       "      <th>tickvol</th>\n",
       "      <th>vol</th>\n",
       "      <th>spread</th>\n",
       "    </tr>\n",
       "  </thead>\n",
       "  <tbody>\n",
       "    <tr>\n",
       "      <th>count</th>\n",
       "      <td>570.000000</td>\n",
       "      <td>570.000000</td>\n",
       "      <td>570.000000</td>\n",
       "      <td>570.000000</td>\n",
       "      <td>570.000000</td>\n",
       "      <td>570.000000</td>\n",
       "      <td>570.0</td>\n",
       "    </tr>\n",
       "    <tr>\n",
       "      <th>mean</th>\n",
       "      <td>5371.484211</td>\n",
       "      <td>5374.215789</td>\n",
       "      <td>5368.931579</td>\n",
       "      <td>5371.582456</td>\n",
       "      <td>2743.457895</td>\n",
       "      <td>7802.594737</td>\n",
       "      <td>500.0</td>\n",
       "    </tr>\n",
       "    <tr>\n",
       "      <th>std</th>\n",
       "      <td>28.741190</td>\n",
       "      <td>28.125736</td>\n",
       "      <td>29.448872</td>\n",
       "      <td>28.842236</td>\n",
       "      <td>2173.914745</td>\n",
       "      <td>5904.858711</td>\n",
       "      <td>0.0</td>\n",
       "    </tr>\n",
       "    <tr>\n",
       "      <th>min</th>\n",
       "      <td>5307.000000</td>\n",
       "      <td>5313.000000</td>\n",
       "      <td>5304.500000</td>\n",
       "      <td>5306.500000</td>\n",
       "      <td>144.000000</td>\n",
       "      <td>299.000000</td>\n",
       "      <td>500.0</td>\n",
       "    </tr>\n",
       "    <tr>\n",
       "      <th>25%</th>\n",
       "      <td>5351.000000</td>\n",
       "      <td>5353.500000</td>\n",
       "      <td>5347.125000</td>\n",
       "      <td>5351.000000</td>\n",
       "      <td>1122.250000</td>\n",
       "      <td>3277.500000</td>\n",
       "      <td>500.0</td>\n",
       "    </tr>\n",
       "    <tr>\n",
       "      <th>50%</th>\n",
       "      <td>5368.750000</td>\n",
       "      <td>5371.500000</td>\n",
       "      <td>5366.000000</td>\n",
       "      <td>5368.750000</td>\n",
       "      <td>2259.500000</td>\n",
       "      <td>6439.000000</td>\n",
       "      <td>500.0</td>\n",
       "    </tr>\n",
       "    <tr>\n",
       "      <th>75%</th>\n",
       "      <td>5400.875000</td>\n",
       "      <td>5402.875000</td>\n",
       "      <td>5399.750000</td>\n",
       "      <td>5401.000000</td>\n",
       "      <td>3757.000000</td>\n",
       "      <td>10872.250000</td>\n",
       "      <td>500.0</td>\n",
       "    </tr>\n",
       "    <tr>\n",
       "      <th>max</th>\n",
       "      <td>5425.500000</td>\n",
       "      <td>5427.000000</td>\n",
       "      <td>5422.500000</td>\n",
       "      <td>5425.000000</td>\n",
       "      <td>11709.000000</td>\n",
       "      <td>32696.000000</td>\n",
       "      <td>500.0</td>\n",
       "    </tr>\n",
       "  </tbody>\n",
       "</table>\n",
       "</div>"
      ],
      "text/plain": [
       "              open         high          low        close       tickvol  \\\n",
       "count   570.000000   570.000000   570.000000   570.000000    570.000000   \n",
       "mean   5371.484211  5374.215789  5368.931579  5371.582456   2743.457895   \n",
       "std      28.741190    28.125736    29.448872    28.842236   2173.914745   \n",
       "min    5307.000000  5313.000000  5304.500000  5306.500000    144.000000   \n",
       "25%    5351.000000  5353.500000  5347.125000  5351.000000   1122.250000   \n",
       "50%    5368.750000  5371.500000  5366.000000  5368.750000   2259.500000   \n",
       "75%    5400.875000  5402.875000  5399.750000  5401.000000   3757.000000   \n",
       "max    5425.500000  5427.000000  5422.500000  5425.000000  11709.000000   \n",
       "\n",
       "                vol  spread  \n",
       "count    570.000000   570.0  \n",
       "mean    7802.594737   500.0  \n",
       "std     5904.858711     0.0  \n",
       "min      299.000000   500.0  \n",
       "25%     3277.500000   500.0  \n",
       "50%     6439.000000   500.0  \n",
       "75%    10872.250000   500.0  \n",
       "max    32696.000000   500.0  "
      ]
     },
     "execution_count": 229,
     "metadata": {},
     "output_type": "execute_result"
    }
   ],
   "source": [
    "df.describe()"
   ]
  },
  {
   "cell_type": "code",
   "execution_count": 230,
   "metadata": {},
   "outputs": [
    {
     "data": {
      "text/plain": [
       "Index([09:00:00, 09:01:00, 09:02:00, 09:03:00, 09:04:00, 09:05:00, 09:06:00,\n",
       "       09:07:00, 09:08:00, 09:09:00,\n",
       "       ...\n",
       "       18:20:00, 18:21:00, 18:22:00, 18:23:00, 18:24:00, 18:25:00, 18:26:00,\n",
       "       18:27:00, 18:28:00, 18:29:00],\n",
       "      dtype='object', name='datetime', length=570)"
      ]
     },
     "execution_count": 230,
     "metadata": {},
     "output_type": "execute_result"
    }
   ],
   "source": [
    "import datetime\n",
    "\n",
    "# datetime.datetime.now().time()\n",
    "\n",
    "time = df.index.map(lambda t: t.time())\n",
    "time"
   ]
  },
  {
   "cell_type": "code",
   "execution_count": 231,
   "metadata": {},
   "outputs": [
    {
     "data": {
      "text/plain": [
       "[<matplotlib.lines.Line2D at 0x7f16f9135660>]"
      ]
     },
     "execution_count": 231,
     "metadata": {},
     "output_type": "execute_result"
    },
    {
     "data": {
      "image/png": "[encoded data removed]",
      "text/plain": [
       "<Figure size 640x480 with 1 Axes>"
      ]
     },
     "metadata": {},
     "output_type": "display_data"
    }
   ],
   "source": [
    "plt.xticks(rotation=90)\n",
    "plt.plot(df.index, df['close'])"
   ]
  },
  {
   "cell_type": "code",
   "execution_count": 232,
   "metadata": {},
   "outputs": [],
   "source": [
    "train, test = train_test_split(\n",
    "  df.to_numpy(),  \n",
    "  random_state=1, \n",
    "  test_size=0.2\n",
    ")\n",
    "scaler = MinMaxScaler(feature_range=(0, 1))\n",
    "x_trainscaled = scaler.fit_transform(train)\n",
    "x_testscaled = scaler.transform(test)"
   ]
  },
  {
   "cell_type": "code",
   "execution_count": 233,
   "metadata": {},
   "outputs": [
    {
     "name": "stdout",
     "output_type": "stream",
     "text": [
      "396\n",
      "396\n"
     ]
    }
   ],
   "source": [
    "x_train = []\n",
    "y_train = []\n",
    "mins_used_to_predict = 60\n",
    "\n",
    "for i in range(mins_used_to_predict, len(x_trainscaled)):\n",
    "\n",
    "    #60 ultimos dias\n",
    "    x_train.append(x_trainscaled[i - mins_used_to_predict: i, 3])\n",
    "    #cotacao\n",
    "    y_train.append(x_trainscaled[i, 3])\n",
    "\n",
    "    # if i <= 61:\n",
    "\n",
    "print(len(x_train))\n",
    "print(len(y_train))"
   ]
  },
  {
   "cell_type": "code",
   "execution_count": 234,
   "metadata": {},
   "outputs": [
    {
     "name": "stdout",
     "output_type": "stream",
     "text": [
      "54\n",
      "54\n"
     ]
    }
   ],
   "source": [
    "x_test = []\n",
    "y_test = []\n",
    "mins_used_to_predict = 60\n",
    "\n",
    "for i in range(mins_used_to_predict, len(x_testscaled)):\n",
    "\n",
    "    #60 ultimos dias\n",
    "    x_test.append(x_testscaled[i - mins_used_to_predict: i, 3])\n",
    "    #cotacao\n",
    "    y_test.append(x_testscaled[i, 3])\n",
    "\n",
    "    # if i <= 61:\n",
    "\n",
    "print(len(x_test))\n",
    "print(len(y_test))"
   ]
  },
  {
   "cell_type": "code",
   "execution_count": 235,
   "metadata": {},
   "outputs": [
    {
     "name": "stdout",
     "output_type": "stream",
     "text": [
      "0.0006444166694904441\n"
     ]
    }
   ],
   "source": [
    "model = MLPRegressor(\n",
    "  hidden_layer_sizes=(7, 1),\n",
    "  # activation='tanh',\n",
    "  # solver= 'adam',\n",
    ").fit(x_train, y_train)\n",
    "\n",
    "print(model.score(x_test, y_test))"
   ]
  },
  {
   "cell_type": "code",
   "execution_count": 236,
   "metadata": {},
   "outputs": [
    {
     "ename": "ValueError",
     "evalue": "Expected 2D array, got 1D array instead:\narray=[0.54452797 0.54452797 0.54452797 0.54842478 0.54452797 0.54452797\n 0.54452797 0.54452797 0.54452797 0.54452797 0.54452797 0.54452797\n 0.54452797 0.54452797 0.54452797 0.54452797 0.54452797 0.54452797\n 0.54452797 0.54452797 0.54452797 0.54452797 0.54452797 0.54452797\n 0.54452797 0.54452797 0.54452797 0.54452797 0.54452797 0.54452797\n 0.54452797 0.54452797 0.54452797 0.54452797 0.54452797 0.54452797\n 0.54452797 0.54452797 0.54452797 0.54452797 0.54452797 0.54452797\n 0.54956071 0.54452797 0.54452797 0.54452797 0.54452797 0.54452797\n 0.54452797 0.54452797 0.54452797 0.54452797 0.54452797 0.55073494].\nReshape your data either using array.reshape(-1, 1) if your data has a single feature or array.reshape(1, -1) if it contains a single sample.",
     "output_type": "error",
     "traceback": [
      "\u001b[0;31m---------------------------------------------------------------------------\u001b[0m",
      "\u001b[0;31mValueError\u001b[0m                                Traceback (most recent call last)",
      "Cell \u001b[0;32mIn [236], line 4\u001b[0m\n\u001b[1;32m      2\u001b[0m \u001b[39m# x_test = x_test.reshape(60, 1)\u001b[39;00m\n\u001b[1;32m      3\u001b[0m predicts \u001b[39m=\u001b[39m model\u001b[39m.\u001b[39mpredict(x_test)\n\u001b[0;32m----> 4\u001b[0m predicts \u001b[39m=\u001b[39m scaler\u001b[39m.\u001b[39;49minverse_transform(predicts)\n\u001b[1;32m      5\u001b[0m predicts\n",
      "File \u001b[0;32m~/.local/lib/python3.10/site-packages/sklearn/preprocessing/_data.py:528\u001b[0m, in \u001b[0;36mMinMaxScaler.inverse_transform\u001b[0;34m(self, X)\u001b[0m\n\u001b[1;32m    514\u001b[0m \u001b[39m\"\"\"Undo the scaling of X according to feature_range.\u001b[39;00m\n\u001b[1;32m    515\u001b[0m \n\u001b[1;32m    516\u001b[0m \u001b[39mParameters\u001b[39;00m\n\u001b[0;32m   (...)\u001b[0m\n\u001b[1;32m    524\u001b[0m \u001b[39m    Transformed data.\u001b[39;00m\n\u001b[1;32m    525\u001b[0m \u001b[39m\"\"\"\u001b[39;00m\n\u001b[1;32m    526\u001b[0m check_is_fitted(\u001b[39mself\u001b[39m)\n\u001b[0;32m--> 528\u001b[0m X \u001b[39m=\u001b[39m check_array(\n\u001b[1;32m    529\u001b[0m     X, copy\u001b[39m=\u001b[39;49m\u001b[39mself\u001b[39;49m\u001b[39m.\u001b[39;49mcopy, dtype\u001b[39m=\u001b[39;49mFLOAT_DTYPES, force_all_finite\u001b[39m=\u001b[39;49m\u001b[39m\"\u001b[39;49m\u001b[39mallow-nan\u001b[39;49m\u001b[39m\"\u001b[39;49m\n\u001b[1;32m    530\u001b[0m )\n\u001b[1;32m    532\u001b[0m X \u001b[39m-\u001b[39m\u001b[39m=\u001b[39m \u001b[39mself\u001b[39m\u001b[39m.\u001b[39mmin_\n\u001b[1;32m    533\u001b[0m X \u001b[39m/\u001b[39m\u001b[39m=\u001b[39m \u001b[39mself\u001b[39m\u001b[39m.\u001b[39mscale_\n",
      "File \u001b[0;32m~/.local/lib/python3.10/site-packages/sklearn/utils/validation.py:879\u001b[0m, in \u001b[0;36mcheck_array\u001b[0;34m(array, accept_sparse, accept_large_sparse, dtype, order, copy, force_all_finite, ensure_2d, allow_nd, ensure_min_samples, ensure_min_features, estimator, input_name)\u001b[0m\n\u001b[1;32m    877\u001b[0m     \u001b[39m# If input is 1D raise error\u001b[39;00m\n\u001b[1;32m    878\u001b[0m     \u001b[39mif\u001b[39;00m array\u001b[39m.\u001b[39mndim \u001b[39m==\u001b[39m \u001b[39m1\u001b[39m:\n\u001b[0;32m--> 879\u001b[0m         \u001b[39mraise\u001b[39;00m \u001b[39mValueError\u001b[39;00m(\n\u001b[1;32m    880\u001b[0m             \u001b[39m\"\u001b[39m\u001b[39mExpected 2D array, got 1D array instead:\u001b[39m\u001b[39m\\n\u001b[39;00m\u001b[39marray=\u001b[39m\u001b[39m{}\u001b[39;00m\u001b[39m.\u001b[39m\u001b[39m\\n\u001b[39;00m\u001b[39m\"\u001b[39m\n\u001b[1;32m    881\u001b[0m             \u001b[39m\"\u001b[39m\u001b[39mReshape your data either using array.reshape(-1, 1) if \u001b[39m\u001b[39m\"\u001b[39m\n\u001b[1;32m    882\u001b[0m             \u001b[39m\"\u001b[39m\u001b[39myour data has a single feature or array.reshape(1, -1) \u001b[39m\u001b[39m\"\u001b[39m\n\u001b[1;32m    883\u001b[0m             \u001b[39m\"\u001b[39m\u001b[39mif it contains a single sample.\u001b[39m\u001b[39m\"\u001b[39m\u001b[39m.\u001b[39mformat(array)\n\u001b[1;32m    884\u001b[0m         )\n\u001b[1;32m    886\u001b[0m \u001b[39mif\u001b[39;00m dtype_numeric \u001b[39mand\u001b[39;00m array\u001b[39m.\u001b[39mdtype\u001b[39m.\u001b[39mkind \u001b[39min\u001b[39;00m \u001b[39m\"\u001b[39m\u001b[39mUSV\u001b[39m\u001b[39m\"\u001b[39m:\n\u001b[1;32m    887\u001b[0m     \u001b[39mraise\u001b[39;00m \u001b[39mValueError\u001b[39;00m(\n\u001b[1;32m    888\u001b[0m         \u001b[39m\"\u001b[39m\u001b[39mdtype=\u001b[39m\u001b[39m'\u001b[39m\u001b[39mnumeric\u001b[39m\u001b[39m'\u001b[39m\u001b[39m is not compatible with arrays of bytes/strings.\u001b[39m\u001b[39m\"\u001b[39m\n\u001b[1;32m    889\u001b[0m         \u001b[39m\"\u001b[39m\u001b[39mConvert your data to numeric values explicitly instead.\u001b[39m\u001b[39m\"\u001b[39m\n\u001b[1;32m    890\u001b[0m     )\n",
      "\u001b[0;31mValueError\u001b[0m: Expected 2D array, got 1D array instead:\narray=[0.54452797 0.54452797 0.54452797 0.54842478 0.54452797 0.54452797\n 0.54452797 0.54452797 0.54452797 0.54452797 0.54452797 0.54452797\n 0.54452797 0.54452797 0.54452797 0.54452797 0.54452797 0.54452797\n 0.54452797 0.54452797 0.54452797 0.54452797 0.54452797 0.54452797\n 0.54452797 0.54452797 0.54452797 0.54452797 0.54452797 0.54452797\n 0.54452797 0.54452797 0.54452797 0.54452797 0.54452797 0.54452797\n 0.54452797 0.54452797 0.54452797 0.54452797 0.54452797 0.54452797\n 0.54956071 0.54452797 0.54452797 0.54452797 0.54452797 0.54452797\n 0.54452797 0.54452797 0.54452797 0.54452797 0.54452797 0.55073494].\nReshape your data either using array.reshape(-1, 1) if your data has a single feature or array.reshape(1, -1) if it contains a single sample."
     ]
    }
   ],
   "source": [
    "x_test = np.array(x_test)\n",
    "# x_test = x_test.reshape(60, 1)\n",
    "predicts = model.predict(x_test)\n",
    "predicts = scaler.inverse_transform(predicts)\n",
    "predicts\n",
    "# x_test"
   ]
  }
 ],
 "metadata": {
  "kernelspec": {
   "display_name": "Python 3.10.8 64-bit",
   "language": "python",
   "name": "python3"
  },
  "language_info": {
   "codemirror_mode": {
    "name": "ipython",
    "version": 3
   },
   "file_extension": ".py",
   "mimetype": "text/x-python",
   "name": "python",
   "nbconvert_exporter": "python",
   "pygments_lexer": "ipython3",
   "version": "3.10.8"
  },
  "orig_nbformat": 4,
  "vscode": {
   "interpreter": {
    "hash": "97cc609b13305c559618ec78a438abc56230b9381f827f22d070313b9a1f3777"
   }
  }
 },
 "nbformat": 4,
 "nbformat_minor": 2
}

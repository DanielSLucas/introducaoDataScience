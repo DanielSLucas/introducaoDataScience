{
 "cells": [
  {
   "cell_type": "code",
   "execution_count": 1,
   "metadata": {},
   "outputs": [],
   "source": [
    "from goose3 import Goose"
   ]
  },
  {
   "cell_type": "code",
   "execution_count": 2,
   "metadata": {},
   "outputs": [],
   "source": [
    "webScrapper = Goose()\n",
    "url = \"https://www.boatos.org/politica/arthur-lira-fraudou-votacao-sobre-voto-impresso-camara.html\"\n",
    "pageData = webScrapper.extract(url)"
   ]
  },
  {
   "cell_type": "code",
   "execution_count": 3,
   "metadata": {},
   "outputs": [
    {
     "data": {
      "text/plain": [
       "{'meta': {'description': 'Boato – Está comprovado que a votação sobre o voto impresso na Câmara dos Deputados foi fraudada por Arthur Lira. Isso porque alguns deputados não conseguiram votar.',\n",
       "  'lang': 'pt',\n",
       "  'keywords': '',\n",
       "  'favicon': 'https://www.boatos.org/wp-content/uploads/2015/09/cropped-10425072_432093653604711_5801931491614209517_n-32x32.png',\n",
       "  'canonical': 'https://www.boatos.org/politica/arthur-lira-fraudou-votacao-sobre-voto-impresso-camara.html',\n",
       "  'encoding': 'UTF-8'},\n",
       " 'image': None,\n",
       " 'domain': 'www.boatos.org',\n",
       " 'title': 'Arthur Lira fraudou a votação sobre voto impresso na Câmara #boato',\n",
       " 'cleaned_text': 'Boato – Está comprovado que a votação sobre o voto impresso na Câmara dos Deputados foi fraudada por Arthur Lira. Isso porque alguns deputados não conseguiram votar.\\n\\nJá faz uma semana que a PEC que previa voto impresso nas eleições de 2022 foi rejeitada na Câmara. Mesmo assim, o assunto continua a todo vapor nas redes sociais bolsonaristas. E a última história que apareceu por aí aponta para uma suposta fraude no (vejam a ironia) sistema eletrônico de votação na sessão que apreciou a proposta do voto impresso.\\n\\nDepois que alguns deputados reclamaram que não conseguiram votar na sessão que decidia sobre o voto impresso em 2022, começou a circular na internet uma mensagem acusando o presidente da Câmara dos Deputados, Arthur Lira, de fraudar a votação. Leia algumas das mensagens que estão circulando por aí:\\n\\nVersão 1: *BOMBA !!!* LIRA *FRAUDOU* A VOTAÇÃO… BRASÍLIA VAI EXPLODIR!!! VOTO IMPRESSO AUDITÁVEL! Não perdemos, fomos roubados mais uma vez! Se há fraude na votação na Câmara dos Deputados, imagina nas eleições Presidenciais!!! Versão 2: BOMBA !!! BOMBA !!BOMBA BOMBA. LIRA *FRAUDOU* A VOTAÇÃO… BRASÍLIA VAI EXPLODIR!!!\\n\\nA mensagem com a acusação contra o presidente da Câmara dos Deputados se espalhou com toda força na internet. Só há um detalhe: os vídeos que acompanham a mensagem não provam que houve “fraude” na votação sobre o voto impresso e tampouco as reclamações apresentadas fariam diferença no resultado final.\\n\\nA mensagem e o histórico desse tipo de fake já começam a denotar a farsa. O texto tem algumas das principais características de boatos online como ser vaga, alarmista, com erros de português e não citam nenhuma fonte confiável que comprove que “houve fraude” no sistema eletrônico de votação na Câmara. Além disso, os boatos sobre o assunto foram tantos que o “voto impresso” foi até tema de um A Semana em Fakes por aqui.\\n\\nAo analisar o conteúdo que “justificaria” os protestos, vimos que não é possível aferir que Arthur Lira fraudou o sistema eletrônico de votação da Câmara dos Deputados. Ao todo, achamos três reclamações sobre o sistema de voto (dois aparecem em vídeos que estão circulando junto com a mensagem).\\n\\nUma delas é do deputado federal Fernando Rodolfo (PL-PE). Ele acabou registrando o voto por meio de requerimento impresso. Outra é do deputado Marcelo Álvaro Antônio (PSL-MG), que apontou que não conseguiu votar. Uma terceira reclamação é da deputada Angela Amin (PP-SC) que apontou que votou por engano contra o voto impresso e não conseguiu retificar o voto.\\n\\nMesmo que os três casos sejam procedentes, não há como provar que há culpa de Arthur Lira nos problemas com a votação e também eles não fariam diferença no resultado final da votação sobre o sistema eleitoral para 2022.\\n\\nPara ser aceita, a proposta precisaria, em dois turnos, ter 308 votos. Ao todos, foram conquistados 229 votos. Mais 79 deputados precisariam votar a favor da proposta para que ela passasse. Ou seja: os três votos citados não fariam diferença.\\n\\nVale apontar que, mesmo que todos os deputados que não conseguiram votar fossem a favor do voto impresso, seriam alcançados 293 votos (insuficiente para a aprovação). Isso porque 218 deputados votaram contra a proposta, um se absteve e o voto do presidente da Câmara Arthur Lira, de acordo com regimento da Casa, só valeria como desempate.\\n\\nÉ importante citar que, em nenhum momento, os deputados que apontaram que não conseguiram votar acusaram Arthur Lira de fraudar o sistema de votação da Câmara. Isso ficou a cargo das mensagens que circularam por aí.\\n\\nResumindo: não é possível dizer que Arthur Lira fraudou a votação do voto impresso. Além de os vídeos não provarem nada contra o presidente da Câmara, os votos em questão não fariam diferença na aprovação ou não da Proposta de Emenda à Constituição.\\n\\nPs.: Esse artigo é uma sugestão de leitores do Boatos.org. Se você quiser sugerir um tema ao Boatos.org, entre em contato com a gente pelo site, Facebook e WhatsApp no telefone (61) 99458-8494.\\n\\nPs2: Confira a nossa nova seção “Oportunidades” clicando aqui. Na página, você pode acesso a promoções, descontos e sites que dão brindes.',\n",
       " 'opengraph': {'locale': 'pt_BR',\n",
       "  'type': 'article',\n",
       "  'title': 'Arthur Lira fraudou a votação sobre voto impresso na Câmara #boato',\n",
       "  'description': 'Boato – Está comprovado que a votação sobre o voto impresso na Câmara dos Deputados foi fraudada por Arthur Lira. Isso porque alguns deputados não conseguiram votar.',\n",
       "  'url': 'https://www.boatos.org/politica/arthur-lira-fraudou-votacao-sobre-voto-impresso-camara.html',\n",
       "  'site_name': 'Boatos.org',\n",
       "  'article:publisher': 'https://www.facebook.com/Boatos.org',\n",
       "  'article:published_time': '2021-08-17T18:32:22+00:00',\n",
       "  'article:modified_time': '2021-08-17T22:45:00+00:00',\n",
       "  'image': 'https://www.boatos.org/wp-content/uploads/2021/08/Arthur-Lira-fraudou-a-votacao-sobre-voto-impresso-na-Camara-diz-boato.jpg',\n",
       "  'image:width': '1280',\n",
       "  'image:height': '720',\n",
       "  'image:type': 'image/jpeg'},\n",
       " 'tags': ['Arthur Lira', 'Voto Impresso'],\n",
       " 'tweets': [],\n",
       " 'movies': [{'embed_type': 'iframe',\n",
       "   'provider': 'youtube',\n",
       "   'width': '720',\n",
       "   'height': '405',\n",
       "   'embed_code': '<iframe width=\"720\" height=\"405\" src=\"https://www.youtube.com/embed/SuZI8wc0KXs\" title=\"YouTube video player\" frameborder=\"0\" allow=\"accelerometer; autoplay; clipboard-write; encrypted-media; gyroscope; picture-in-picture; web-share\" allowfullscreen=\"\"/>',\n",
       "   'src': 'https://www.youtube.com/embed/SuZI8wc0KXs'}],\n",
       " 'links': ['http://bit.ly/3vZsrnd',\n",
       "  'https://www.boatos.org/opiniao/pressao-por-voto-impresso-acusacoes-sem-provas-de-fraudes-suscitam-sao-suscitadas-por-fake-news.html',\n",
       "  'https://jc.ne10.uol.com.br/politica/2021/08/13026877-saiba-como-cada-deputado-pernambucano-votou-na-pec-do-voto-impresso.html',\n",
       "  'https://www.metropoles.com/colunas/guilherme-amado/ex-ministro-de-bolsonaro-deixa-de-votar-sobre-voto-impresso',\n",
       "  'https://g1.globo.com/sc/santa-catarina/noticia/2021/08/11/deputada-de-sc-diz-que-errou-ao-votar-sobre-pec-do-voto-impresso-tentei-modificar-por-20-minutos.ghtml',\n",
       "  '//ridewacky.com/link?i=vanm8rd3shhcwbxd3uad',\n",
       "  'https://www.boatos.org/',\n",
       "  'https://www.boatos.org/',\n",
       "  'https://www.boatos.org/contato',\n",
       "  'https://www.facebook.com/boatos.org',\n",
       "  'https://www.boatos.org/oportunidades-boatos-org',\n",
       "  'http://bit.ly/2OU3Zwz',\n",
       "  'http://bit.ly/2OT6bEK',\n",
       "  'http://bit.ly/2AHn9ke',\n",
       "  'http://bit.ly/2syHnYU',\n",
       "  'https://bit.ly/3vN6CET',\n",
       "  'https://bit.ly/2VSlZwK',\n",
       "  'https://bit.ly/3yPELWj',\n",
       "  'https://bit.ly/3cUbEso',\n",
       "  'https://www.boatos.org/politica/arthur-lira-fraudou-votacao-sobre-voto-impresso-camara.html?share=jetpack-whatsapp',\n",
       "  'https://twitter.com/share',\n",
       "  'https://www.boatos.org/politica/arthur-lira-fraudou-votacao-sobre-voto-impresso-camara.html?share=telegram',\n",
       "  '/cdn-cgi/l/email-protection#d0efa3a5b2bab5b3a4edf5e59280bfa3a4f5e2e0b3bfbda0b1a2a4b9bcb8b1b4bff5e594f5e2e091a2a4b8a5a2f5e2e09cb9a2b1f5e2e0b6a2b1a5b4bfa5f5e2e0b1f5e2e0a6bfa4b1f593e3f591e7f593e3f591e3bff5e2e0a3bfb2a2b5f5e2e0a6bfa4bff5e2e0b9bda0a2b5a3a3bff5e2e0beb1f5e2e093f593e3f591e2bdb1a2b1f5e2e0f5e2e3b2bfb1a4bff6b2bfb4a9edb8a4a4a0a3f5e391f5e296f5e296a7a7a7feb2bfb1a4bfa3febfa2b7f5e296a0bfbcb9a4b9b3b1f5e296b1a2a4b8a5a2fdbcb9a2b1fdb6a2b1a5b4bfa5fda6bfa4b1b3b1bffda3bfb2a2b5fda6bfa4bffdb9bda0a2b5a3a3bffdb3b1bdb1a2b1feb8a4bdbcf6a3b8b1a2b5edb5bdb1b9bc'],\n",
       " 'authors': ['Edgard Matsuki'],\n",
       " 'publish_date': '2021-08-17T18:32:22+00:00'}"
      ]
     },
     "execution_count": 3,
     "metadata": {},
     "output_type": "execute_result"
    }
   ],
   "source": [
    "pageData.infos"
   ]
  },
  {
   "cell_type": "code",
   "execution_count": 4,
   "metadata": {},
   "outputs": [
    {
     "data": {
      "text/plain": [
       "'Arthur Lira fraudou a votação sobre voto impresso na Câmara #boato.\\n\\nBoato – Está comprovado que a votação sobre o voto impresso na Câmara dos Deputados foi fraudada por Arthur Lira. Isso porque alguns deputados não conseguiram votar.\\n\\nJá faz uma semana que a PEC que previa voto impresso nas eleições de 2022 foi rejeitada na Câmara. Mesmo assim, o assunto continua a todo vapor nas redes sociais bolsonaristas. E a última história que apareceu por aí aponta para uma suposta fraude no (vejam a ironia) sistema eletrônico de votação na sessão que apreciou a proposta do voto impresso.\\n\\nDepois que alguns deputados reclamaram que não conseguiram votar na sessão que decidia sobre o voto impresso em 2022, começou a circular na internet uma mensagem acusando o presidente da Câmara dos Deputados, Arthur Lira, de fraudar a votação. Leia algumas das mensagens que estão circulando por aí:\\n\\nVersão 1: *BOMBA !!!* LIRA *FRAUDOU* A VOTAÇÃO… BRASÍLIA VAI EXPLODIR!!! VOTO IMPRESSO AUDITÁVEL! Não perdemos, fomos roubados mais uma vez! Se há fraude na votação na Câmara dos Deputados, imagina nas eleições Presidenciais!!! Versão 2: BOMBA !!! BOMBA !!BOMBA BOMBA. LIRA *FRAUDOU* A VOTAÇÃO… BRASÍLIA VAI EXPLODIR!!!\\n\\nA mensagem com a acusação contra o presidente da Câmara dos Deputados se espalhou com toda força na internet. Só há um detalhe: os vídeos que acompanham a mensagem não provam que houve “fraude” na votação sobre o voto impresso e tampouco as reclamações apresentadas fariam diferença no resultado final.\\n\\nA mensagem e o histórico desse tipo de fake já começam a denotar a farsa. O texto tem algumas das principais características de boatos online como ser vaga, alarmista, com erros de português e não citam nenhuma fonte confiável que comprove que “houve fraude” no sistema eletrônico de votação na Câmara. Além disso, os boatos sobre o assunto foram tantos que o “voto impresso” foi até tema de um A Semana em Fakes por aqui.\\n\\nAo analisar o conteúdo que “justificaria” os protestos, vimos que não é possível aferir que Arthur Lira fraudou o sistema eletrônico de votação da Câmara dos Deputados. Ao todo, achamos três reclamações sobre o sistema de voto (dois aparecem em vídeos que estão circulando junto com a mensagem).\\n\\nUma delas é do deputado federal Fernando Rodolfo (PL-PE). Ele acabou registrando o voto por meio de requerimento impresso. Outra é do deputado Marcelo Álvaro Antônio (PSL-MG), que apontou que não conseguiu votar. Uma terceira reclamação é da deputada Angela Amin (PP-SC) que apontou que votou por engano contra o voto impresso e não conseguiu retificar o voto.\\n\\nMesmo que os três casos sejam procedentes, não há como provar que há culpa de Arthur Lira nos problemas com a votação e também eles não fariam diferença no resultado final da votação sobre o sistema eleitoral para 2022.\\n\\nPara ser aceita, a proposta precisaria, em dois turnos, ter 308 votos. Ao todos, foram conquistados 229 votos. Mais 79 deputados precisariam votar a favor da proposta para que ela passasse. Ou seja: os três votos citados não fariam diferença.\\n\\nVale apontar que, mesmo que todos os deputados que não conseguiram votar fossem a favor do voto impresso, seriam alcançados 293 votos (insuficiente para a aprovação). Isso porque 218 deputados votaram contra a proposta, um se absteve e o voto do presidente da Câmara Arthur Lira, de acordo com regimento da Casa, só valeria como desempate.\\n\\nÉ importante citar que, em nenhum momento, os deputados que apontaram que não conseguiram votar acusaram Arthur Lira de fraudar o sistema de votação da Câmara. Isso ficou a cargo das mensagens que circularam por aí.\\n\\nResumindo: não é possível dizer que Arthur Lira fraudou a votação do voto impresso. Além de os vídeos não provarem nada contra o presidente da Câmara, os votos em questão não fariam diferença na aprovação ou não da Proposta de Emenda à Constituição.\\n\\nPs.: Esse artigo é uma sugestão de leitores do Boatos.org. Se você quiser sugerir um tema ao Boatos.org, entre em contato com a gente pelo site, Facebook e WhatsApp no telefone (61) 99458-8494.\\n\\nPs2: Confira a nossa nova seção “Oportunidades” clicando aqui. Na página, você pode acesso a promoções, descontos e sites que dão brindes.'"
      ]
     },
     "execution_count": 4,
     "metadata": {},
     "output_type": "execute_result"
    }
   ],
   "source": [
    "article = pageData.title + \".\\n\\n\" + pageData.cleaned_text\n",
    "article"
   ]
  },
  {
   "cell_type": "code",
   "execution_count": 5,
   "metadata": {},
   "outputs": [],
   "source": [
    "import nltk\n",
    "import string"
   ]
  },
  {
   "cell_type": "code",
   "execution_count": 6,
   "metadata": {},
   "outputs": [
    {
     "name": "stderr",
     "output_type": "stream",
     "text": [
      "[nltk_data] Downloading package punkt to\n",
      "[nltk_data]     /home/daniellucas/nltk_data...\n",
      "[nltk_data]   Package punkt is already up-to-date!\n",
      "[nltk_data] Downloading package stopwords to\n",
      "[nltk_data]     /home/daniellucas/nltk_data...\n",
      "[nltk_data]   Package stopwords is already up-to-date!\n"
     ]
    },
    {
     "data": {
      "text/plain": [
       "True"
      ]
     },
     "execution_count": 6,
     "metadata": {},
     "output_type": "execute_result"
    }
   ],
   "source": [
    "nltk.download('punkt')\n",
    "nltk.download('stopwords')"
   ]
  },
  {
   "cell_type": "code",
   "execution_count": 7,
   "metadata": {},
   "outputs": [
    {
     "name": "stdout",
     "output_type": "stream",
     "text": [
      "['a', 'à', 'ao', 'aos', 'aquela', 'aquelas', 'aquele', 'aqueles', 'aquilo', 'as', 'às', 'até', 'com', 'como', 'da', 'das', 'de', 'dela', 'delas', 'dele', 'deles', 'depois', 'do', 'dos', 'e', 'é', 'ela', 'elas', 'ele', 'eles', 'em', 'entre', 'era', 'eram', 'éramos', 'essa', 'essas', 'esse', 'esses', 'esta', 'está', 'estamos', 'estão', 'estar', 'estas', 'estava', 'estavam', 'estávamos', 'este', 'esteja', 'estejam', 'estejamos', 'estes', 'esteve', 'estive', 'estivemos', 'estiver', 'estivera', 'estiveram', 'estivéramos', 'estiverem', 'estivermos', 'estivesse', 'estivessem', 'estivéssemos', 'estou', 'eu', 'foi', 'fomos', 'for', 'fora', 'foram', 'fôramos', 'forem', 'formos', 'fosse', 'fossem', 'fôssemos', 'fui', 'há', 'haja', 'hajam', 'hajamos', 'hão', 'havemos', 'haver', 'hei', 'houve', 'houvemos', 'houver', 'houvera', 'houverá', 'houveram', 'houvéramos', 'houverão', 'houverei', 'houverem', 'houveremos', 'houveria', 'houveriam', 'houveríamos', 'houvermos', 'houvesse', 'houvessem', 'houvéssemos', 'isso', 'isto', 'já', 'lhe', 'lhes', 'mais', 'mas', 'me', 'mesmo', 'meu', 'meus', 'minha', 'minhas', 'muito', 'na', 'não', 'nas', 'nem', 'no', 'nos', 'nós', 'nossa', 'nossas', 'nosso', 'nossos', 'num', 'numa', 'o', 'os', 'ou', 'para', 'pela', 'pelas', 'pelo', 'pelos', 'por', 'qual', 'quando', 'que', 'quem', 'são', 'se', 'seja', 'sejam', 'sejamos', 'sem', 'ser', 'será', 'serão', 'serei', 'seremos', 'seria', 'seriam', 'seríamos', 'seu', 'seus', 'só', 'somos', 'sou', 'sua', 'suas', 'também', 'te', 'tem', 'tém', 'temos', 'tenha', 'tenham', 'tenhamos', 'tenho', 'terá', 'terão', 'terei', 'teremos', 'teria', 'teriam', 'teríamos', 'teu', 'teus', 'teve', 'tinha', 'tinham', 'tínhamos', 'tive', 'tivemos', 'tiver', 'tivera', 'tiveram', 'tivéramos', 'tiverem', 'tivermos', 'tivesse', 'tivessem', 'tivéssemos', 'tu', 'tua', 'tuas', 'um', 'uma', 'você', 'vocês', 'vos']\n",
      "!\"#$%&'()*+,-./:;<=>?@[\\]^_`{|}~\n"
     ]
    }
   ],
   "source": [
    "stopwords = nltk.corpus.stopwords.words('portuguese')\n",
    "pontuation = string.punctuation\n",
    "print(stopwords)\n",
    "print(pontuation)"
   ]
  },
  {
   "cell_type": "code",
   "execution_count": 8,
   "metadata": {},
   "outputs": [],
   "source": [
    "def serializeText(text, stopwords, pontuation):\n",
    "  lowerCasedText = text.lower()\n",
    "  \n",
    "  tokenizedText = nltk.word_tokenize(lowerCasedText)\n",
    "\n",
    "  withoutStopwordsText = removeStopwords(tokenizedText, stopwords)\n",
    "  withoutStopwordsAndPontuationText = removePontuation(withoutStopwordsText, pontuation)\n",
    "  withoutStopwordsPontuationAndDigitsText = removeDigits(withoutStopwordsAndPontuationText)\n",
    "\n",
    "  serializedText = ' '.join(withoutStopwordsPontuationAndDigitsText)\n",
    "\n",
    "  return serializedText\n",
    "\n",
    "def removeStopwords(textTokens, stopwords):\n",
    "  return [word for word in textTokens if word not in stopwords]\n",
    "\n",
    "def removePontuation(textTokens, pontuation):\n",
    "  return [word for word in textTokens if word not in pontuation]\n",
    "\n",
    "def removeDigits(textTokens):\n",
    "  return [str(word) for word in textTokens if not word.isdigit()]\n"
   ]
  },
  {
   "cell_type": "code",
   "execution_count": 9,
   "metadata": {},
   "outputs": [
    {
     "data": {
      "text/plain": [
       "'arthur lira fraudou votação sobre voto impresso câmara boato boato – comprovado votação sobre voto impresso câmara deputados fraudada arthur lira porque alguns deputados conseguiram votar faz semana pec previa voto impresso eleições rejeitada câmara assim assunto continua todo vapor redes sociais bolsonaristas última história apareceu aí aponta suposta fraude vejam ironia sistema eletrônico votação sessão apreciou proposta voto impresso alguns deputados reclamaram conseguiram votar sessão decidia sobre voto impresso começou circular internet mensagem acusando presidente câmara deputados arthur lira fraudar votação leia algumas mensagens circulando aí versão bomba lira fraudou votação… brasília vai explodir voto impresso auditável perdemos roubados vez fraude votação câmara deputados imagina eleições presidenciais versão bomba bomba bomba bomba lira fraudou votação… brasília vai explodir mensagem acusação contra presidente câmara deputados espalhou toda força internet detalhe vídeos acompanham mensagem provam “ fraude ” votação sobre voto impresso tampouco reclamações apresentadas fariam diferença resultado final mensagem histórico desse tipo fake começam denotar farsa texto algumas principais características boatos online vaga alarmista erros português citam nenhuma fonte confiável comprove “ fraude ” sistema eletrônico votação câmara além disso boatos sobre assunto tantos “ voto impresso ” tema semana fakes aqui analisar conteúdo “ justificaria ” protestos vimos possível aferir arthur lira fraudou sistema eletrônico votação câmara deputados todo achamos três reclamações sobre sistema voto dois aparecem vídeos circulando junto mensagem deputado federal fernando rodolfo pl-pe acabou registrando voto meio requerimento impresso outra deputado marcelo álvaro antônio psl-mg apontou conseguiu votar terceira reclamação deputada angela amin pp-sc apontou votou engano contra voto impresso conseguiu retificar voto três casos procedentes provar culpa arthur lira problemas votação fariam diferença resultado final votação sobre sistema eleitoral 2022. aceita proposta precisaria dois turnos ter votos todos conquistados votos deputados precisariam votar favor proposta passasse três votos citados fariam diferença vale apontar todos deputados conseguiram votar favor voto impresso alcançados votos insuficiente aprovação porque deputados votaram contra proposta absteve voto presidente câmara arthur lira acordo regimento casa valeria desempate importante citar nenhum momento deputados apontaram conseguiram votar acusaram arthur lira fraudar sistema votação câmara ficou cargo mensagens circularam aí resumindo possível dizer arthur lira fraudou votação voto impresso além vídeos provarem nada contra presidente câmara votos questão fariam diferença aprovação proposta emenda constituição ps artigo sugestão leitores boatos.org quiser sugerir tema boatos.org contato gente site facebook whatsapp telefone 99458-8494. ps2 confira nova seção “ oportunidades ” clicando aqui página pode acesso promoções descontos sites dão brindes'"
      ]
     },
     "execution_count": 9,
     "metadata": {},
     "output_type": "execute_result"
    }
   ],
   "source": [
    "serializedText = serializeText(article, stopwords, pontuation)\n",
    "serializedText"
   ]
  },
  {
   "cell_type": "code",
   "execution_count": 10,
   "metadata": {},
   "outputs": [
    {
     "data": {
      "text/plain": [
       "FreqDist({'voto': 15, 'votação': 12, 'impresso': 12, 'câmara': 11, 'deputados': 11, 'lira': 10, 'arthur': 8, 'sobre': 7, 'votar': 6, 'sistema': 6, ...})"
      ]
     },
     "execution_count": 10,
     "metadata": {},
     "output_type": "execute_result"
    }
   ],
   "source": [
    "wordsFrequency = nltk.FreqDist(nltk.word_tokenize(serializedText))\n",
    "wordsFrequency"
   ]
  },
  {
   "cell_type": "code",
   "execution_count": 11,
   "metadata": {},
   "outputs": [],
   "source": [
    "def proportionalFrequencies(frequencies):\n",
    "  highestFrequency = max(frequencies.values())\n",
    "  result = {}\n",
    "\n",
    "  for key in frequencies.keys():\n",
    "    result[key] = proportionalFrequency(frequencies[key], highestFrequency)\n",
    "  \n",
    "  return result\n",
    "\n",
    "def proportionalFrequency(frequency, maxFrequency):\n",
    "  return frequency/maxFrequency"
   ]
  },
  {
   "cell_type": "code",
   "execution_count": 12,
   "metadata": {},
   "outputs": [
    {
     "data": {
      "text/plain": [
       "{'arthur': 0.5333333333333333,\n",
       " 'lira': 0.6666666666666666,\n",
       " 'fraudou': 0.3333333333333333,\n",
       " 'votação': 0.8,\n",
       " 'sobre': 0.4666666666666667,\n",
       " 'voto': 1.0,\n",
       " 'impresso': 0.8,\n",
       " 'câmara': 0.7333333333333333,\n",
       " 'boato': 0.13333333333333333,\n",
       " '–': 0.06666666666666667,\n",
       " 'comprovado': 0.06666666666666667,\n",
       " 'deputados': 0.7333333333333333,\n",
       " 'fraudada': 0.06666666666666667,\n",
       " 'porque': 0.13333333333333333,\n",
       " 'alguns': 0.13333333333333333,\n",
       " 'conseguiram': 0.26666666666666666,\n",
       " 'votar': 0.4,\n",
       " 'faz': 0.06666666666666667,\n",
       " 'semana': 0.13333333333333333,\n",
       " 'pec': 0.06666666666666667,\n",
       " 'previa': 0.06666666666666667,\n",
       " 'eleições': 0.13333333333333333,\n",
       " 'rejeitada': 0.06666666666666667,\n",
       " 'assim': 0.06666666666666667,\n",
       " 'assunto': 0.13333333333333333,\n",
       " 'continua': 0.06666666666666667,\n",
       " 'todo': 0.13333333333333333,\n",
       " 'vapor': 0.06666666666666667,\n",
       " 'redes': 0.06666666666666667,\n",
       " 'sociais': 0.06666666666666667,\n",
       " 'bolsonaristas': 0.06666666666666667,\n",
       " 'última': 0.06666666666666667,\n",
       " 'história': 0.06666666666666667,\n",
       " 'apareceu': 0.06666666666666667,\n",
       " 'aí': 0.2,\n",
       " 'aponta': 0.06666666666666667,\n",
       " 'suposta': 0.06666666666666667,\n",
       " 'fraude': 0.26666666666666666,\n",
       " 'vejam': 0.06666666666666667,\n",
       " 'ironia': 0.06666666666666667,\n",
       " 'sistema': 0.4,\n",
       " 'eletrônico': 0.2,\n",
       " 'sessão': 0.13333333333333333,\n",
       " 'apreciou': 0.06666666666666667,\n",
       " 'proposta': 0.3333333333333333,\n",
       " 'reclamaram': 0.06666666666666667,\n",
       " 'decidia': 0.06666666666666667,\n",
       " 'começou': 0.06666666666666667,\n",
       " 'circular': 0.06666666666666667,\n",
       " 'internet': 0.13333333333333333,\n",
       " 'mensagem': 0.3333333333333333,\n",
       " 'acusando': 0.06666666666666667,\n",
       " 'presidente': 0.26666666666666666,\n",
       " 'fraudar': 0.13333333333333333,\n",
       " 'leia': 0.06666666666666667,\n",
       " 'algumas': 0.13333333333333333,\n",
       " 'mensagens': 0.13333333333333333,\n",
       " 'circulando': 0.13333333333333333,\n",
       " 'versão': 0.13333333333333333,\n",
       " 'bomba': 0.3333333333333333,\n",
       " 'votação…': 0.13333333333333333,\n",
       " 'brasília': 0.13333333333333333,\n",
       " 'vai': 0.13333333333333333,\n",
       " 'explodir': 0.13333333333333333,\n",
       " 'auditável': 0.06666666666666667,\n",
       " 'perdemos': 0.06666666666666667,\n",
       " 'roubados': 0.06666666666666667,\n",
       " 'vez': 0.06666666666666667,\n",
       " 'imagina': 0.06666666666666667,\n",
       " 'presidenciais': 0.06666666666666667,\n",
       " 'acusação': 0.06666666666666667,\n",
       " 'contra': 0.26666666666666666,\n",
       " 'espalhou': 0.06666666666666667,\n",
       " 'toda': 0.06666666666666667,\n",
       " 'força': 0.06666666666666667,\n",
       " 'detalhe': 0.06666666666666667,\n",
       " 'vídeos': 0.2,\n",
       " 'acompanham': 0.06666666666666667,\n",
       " 'provam': 0.06666666666666667,\n",
       " '“': 0.3333333333333333,\n",
       " '”': 0.3333333333333333,\n",
       " 'tampouco': 0.06666666666666667,\n",
       " 'reclamações': 0.13333333333333333,\n",
       " 'apresentadas': 0.06666666666666667,\n",
       " 'fariam': 0.26666666666666666,\n",
       " 'diferença': 0.26666666666666666,\n",
       " 'resultado': 0.13333333333333333,\n",
       " 'final': 0.13333333333333333,\n",
       " 'histórico': 0.06666666666666667,\n",
       " 'desse': 0.06666666666666667,\n",
       " 'tipo': 0.06666666666666667,\n",
       " 'fake': 0.06666666666666667,\n",
       " 'começam': 0.06666666666666667,\n",
       " 'denotar': 0.06666666666666667,\n",
       " 'farsa': 0.06666666666666667,\n",
       " 'texto': 0.06666666666666667,\n",
       " 'principais': 0.06666666666666667,\n",
       " 'características': 0.06666666666666667,\n",
       " 'boatos': 0.13333333333333333,\n",
       " 'online': 0.06666666666666667,\n",
       " 'vaga': 0.06666666666666667,\n",
       " 'alarmista': 0.06666666666666667,\n",
       " 'erros': 0.06666666666666667,\n",
       " 'português': 0.06666666666666667,\n",
       " 'citam': 0.06666666666666667,\n",
       " 'nenhuma': 0.06666666666666667,\n",
       " 'fonte': 0.06666666666666667,\n",
       " 'confiável': 0.06666666666666667,\n",
       " 'comprove': 0.06666666666666667,\n",
       " 'além': 0.13333333333333333,\n",
       " 'disso': 0.06666666666666667,\n",
       " 'tantos': 0.06666666666666667,\n",
       " 'tema': 0.13333333333333333,\n",
       " 'fakes': 0.06666666666666667,\n",
       " 'aqui': 0.13333333333333333,\n",
       " 'analisar': 0.06666666666666667,\n",
       " 'conteúdo': 0.06666666666666667,\n",
       " 'justificaria': 0.06666666666666667,\n",
       " 'protestos': 0.06666666666666667,\n",
       " 'vimos': 0.06666666666666667,\n",
       " 'possível': 0.13333333333333333,\n",
       " 'aferir': 0.06666666666666667,\n",
       " 'achamos': 0.06666666666666667,\n",
       " 'três': 0.2,\n",
       " 'dois': 0.13333333333333333,\n",
       " 'aparecem': 0.06666666666666667,\n",
       " 'junto': 0.06666666666666667,\n",
       " 'deputado': 0.13333333333333333,\n",
       " 'federal': 0.06666666666666667,\n",
       " 'fernando': 0.06666666666666667,\n",
       " 'rodolfo': 0.06666666666666667,\n",
       " 'pl-pe': 0.06666666666666667,\n",
       " 'acabou': 0.06666666666666667,\n",
       " 'registrando': 0.06666666666666667,\n",
       " 'meio': 0.06666666666666667,\n",
       " 'requerimento': 0.06666666666666667,\n",
       " 'outra': 0.06666666666666667,\n",
       " 'marcelo': 0.06666666666666667,\n",
       " 'álvaro': 0.06666666666666667,\n",
       " 'antônio': 0.06666666666666667,\n",
       " 'psl-mg': 0.06666666666666667,\n",
       " 'apontou': 0.13333333333333333,\n",
       " 'conseguiu': 0.13333333333333333,\n",
       " 'terceira': 0.06666666666666667,\n",
       " 'reclamação': 0.06666666666666667,\n",
       " 'deputada': 0.06666666666666667,\n",
       " 'angela': 0.06666666666666667,\n",
       " 'amin': 0.06666666666666667,\n",
       " 'pp-sc': 0.06666666666666667,\n",
       " 'votou': 0.06666666666666667,\n",
       " 'engano': 0.06666666666666667,\n",
       " 'retificar': 0.06666666666666667,\n",
       " 'casos': 0.06666666666666667,\n",
       " 'procedentes': 0.06666666666666667,\n",
       " 'provar': 0.06666666666666667,\n",
       " 'culpa': 0.06666666666666667,\n",
       " 'problemas': 0.06666666666666667,\n",
       " 'eleitoral': 0.06666666666666667,\n",
       " '2022.': 0.06666666666666667,\n",
       " 'aceita': 0.06666666666666667,\n",
       " 'precisaria': 0.06666666666666667,\n",
       " 'turnos': 0.06666666666666667,\n",
       " 'ter': 0.06666666666666667,\n",
       " 'votos': 0.3333333333333333,\n",
       " 'todos': 0.13333333333333333,\n",
       " 'conquistados': 0.06666666666666667,\n",
       " 'precisariam': 0.06666666666666667,\n",
       " 'favor': 0.13333333333333333,\n",
       " 'passasse': 0.06666666666666667,\n",
       " 'citados': 0.06666666666666667,\n",
       " 'vale': 0.06666666666666667,\n",
       " 'apontar': 0.06666666666666667,\n",
       " 'alcançados': 0.06666666666666667,\n",
       " 'insuficiente': 0.06666666666666667,\n",
       " 'aprovação': 0.13333333333333333,\n",
       " 'votaram': 0.06666666666666667,\n",
       " 'absteve': 0.06666666666666667,\n",
       " 'acordo': 0.06666666666666667,\n",
       " 'regimento': 0.06666666666666667,\n",
       " 'casa': 0.06666666666666667,\n",
       " 'valeria': 0.06666666666666667,\n",
       " 'desempate': 0.06666666666666667,\n",
       " 'importante': 0.06666666666666667,\n",
       " 'citar': 0.06666666666666667,\n",
       " 'nenhum': 0.06666666666666667,\n",
       " 'momento': 0.06666666666666667,\n",
       " 'apontaram': 0.06666666666666667,\n",
       " 'acusaram': 0.06666666666666667,\n",
       " 'ficou': 0.06666666666666667,\n",
       " 'cargo': 0.06666666666666667,\n",
       " 'circularam': 0.06666666666666667,\n",
       " 'resumindo': 0.06666666666666667,\n",
       " 'dizer': 0.06666666666666667,\n",
       " 'provarem': 0.06666666666666667,\n",
       " 'nada': 0.06666666666666667,\n",
       " 'questão': 0.06666666666666667,\n",
       " 'emenda': 0.06666666666666667,\n",
       " 'constituição': 0.06666666666666667,\n",
       " 'ps': 0.06666666666666667,\n",
       " 'artigo': 0.06666666666666667,\n",
       " 'sugestão': 0.06666666666666667,\n",
       " 'leitores': 0.06666666666666667,\n",
       " 'boatos.org': 0.13333333333333333,\n",
       " 'quiser': 0.06666666666666667,\n",
       " 'sugerir': 0.06666666666666667,\n",
       " 'contato': 0.06666666666666667,\n",
       " 'gente': 0.06666666666666667,\n",
       " 'site': 0.06666666666666667,\n",
       " 'facebook': 0.06666666666666667,\n",
       " 'whatsapp': 0.06666666666666667,\n",
       " 'telefone': 0.06666666666666667,\n",
       " '99458-8494.': 0.06666666666666667,\n",
       " 'ps2': 0.06666666666666667,\n",
       " 'confira': 0.06666666666666667,\n",
       " 'nova': 0.06666666666666667,\n",
       " 'seção': 0.06666666666666667,\n",
       " 'oportunidades': 0.06666666666666667,\n",
       " 'clicando': 0.06666666666666667,\n",
       " 'página': 0.06666666666666667,\n",
       " 'pode': 0.06666666666666667,\n",
       " 'acesso': 0.06666666666666667,\n",
       " 'promoções': 0.06666666666666667,\n",
       " 'descontos': 0.06666666666666667,\n",
       " 'sites': 0.06666666666666667,\n",
       " 'dão': 0.06666666666666667,\n",
       " 'brindes': 0.06666666666666667}"
      ]
     },
     "execution_count": 12,
     "metadata": {},
     "output_type": "execute_result"
    }
   ],
   "source": [
    "wordsProportionalFrequencies = proportionalFrequencies(wordsFrequency)\n",
    "wordsProportionalFrequencies"
   ]
  },
  {
   "cell_type": "code",
   "execution_count": 13,
   "metadata": {},
   "outputs": [
    {
     "data": {
      "text/plain": [
       "['Arthur Lira fraudou a votação sobre voto impresso na Câmara #boato.',\n",
       " 'Boato – Está comprovado que a votação sobre o voto impresso na Câmara dos Deputados foi fraudada por Arthur Lira.',\n",
       " 'Isso porque alguns deputados não conseguiram votar.',\n",
       " 'Já faz uma semana que a PEC que previa voto impresso nas eleições de 2022 foi rejeitada na Câmara.',\n",
       " 'Mesmo assim, o assunto continua a todo vapor nas redes sociais bolsonaristas.',\n",
       " 'E a última história que apareceu por aí aponta para uma suposta fraude no (vejam a ironia) sistema eletrônico de votação na sessão que apreciou a proposta do voto impresso.',\n",
       " 'Depois que alguns deputados reclamaram que não conseguiram votar na sessão que decidia sobre o voto impresso em 2022, começou a circular na internet uma mensagem acusando o presidente da Câmara dos Deputados, Arthur Lira, de fraudar a votação.',\n",
       " 'Leia algumas das mensagens que estão circulando por aí:\\n\\nVersão 1: *BOMBA !',\n",
       " '!!',\n",
       " '* LIRA *FRAUDOU* A VOTAÇÃO… BRASÍLIA VAI EXPLODIR!!!',\n",
       " 'VOTO IMPRESSO AUDITÁVEL!',\n",
       " 'Não perdemos, fomos roubados mais uma vez!',\n",
       " 'Se há fraude na votação na Câmara dos Deputados, imagina nas eleições Presidenciais!!!',\n",
       " 'Versão 2: BOMBA !',\n",
       " '!!',\n",
       " 'BOMBA !',\n",
       " '!BOMBA BOMBA.',\n",
       " 'LIRA *FRAUDOU* A VOTAÇÃO… BRASÍLIA VAI EXPLODIR!!!',\n",
       " 'A mensagem com a acusação contra o presidente da Câmara dos Deputados se espalhou com toda força na internet.',\n",
       " 'Só há um detalhe: os vídeos que acompanham a mensagem não provam que houve “fraude” na votação sobre o voto impresso e tampouco as reclamações apresentadas fariam diferença no resultado final.',\n",
       " 'A mensagem e o histórico desse tipo de fake já começam a denotar a farsa.',\n",
       " 'O texto tem algumas das principais características de boatos online como ser vaga, alarmista, com erros de português e não citam nenhuma fonte confiável que comprove que “houve fraude” no sistema eletrônico de votação na Câmara.',\n",
       " 'Além disso, os boatos sobre o assunto foram tantos que o “voto impresso” foi até tema de um A Semana em Fakes por aqui.',\n",
       " 'Ao analisar o conteúdo que “justificaria” os protestos, vimos que não é possível aferir que Arthur Lira fraudou o sistema eletrônico de votação da Câmara dos Deputados.',\n",
       " 'Ao todo, achamos três reclamações sobre o sistema de voto (dois aparecem em vídeos que estão circulando junto com a mensagem).',\n",
       " 'Uma delas é do deputado federal Fernando Rodolfo (PL-PE).',\n",
       " 'Ele acabou registrando o voto por meio de requerimento impresso.',\n",
       " 'Outra é do deputado Marcelo Álvaro Antônio (PSL-MG), que apontou que não conseguiu votar.',\n",
       " 'Uma terceira reclamação é da deputada Angela Amin (PP-SC) que apontou que votou por engano contra o voto impresso e não conseguiu retificar o voto.',\n",
       " 'Mesmo que os três casos sejam procedentes, não há como provar que há culpa de Arthur Lira nos problemas com a votação e também eles não fariam diferença no resultado final da votação sobre o sistema eleitoral para 2022.',\n",
       " 'Para ser aceita, a proposta precisaria, em dois turnos, ter 308 votos.',\n",
       " 'Ao todos, foram conquistados 229 votos.',\n",
       " 'Mais 79 deputados precisariam votar a favor da proposta para que ela passasse.',\n",
       " 'Ou seja: os três votos citados não fariam diferença.',\n",
       " 'Vale apontar que, mesmo que todos os deputados que não conseguiram votar fossem a favor do voto impresso, seriam alcançados 293 votos (insuficiente para a aprovação).',\n",
       " 'Isso porque 218 deputados votaram contra a proposta, um se absteve e o voto do presidente da Câmara Arthur Lira, de acordo com regimento da Casa, só valeria como desempate.',\n",
       " 'É importante citar que, em nenhum momento, os deputados que apontaram que não conseguiram votar acusaram Arthur Lira de fraudar o sistema de votação da Câmara.',\n",
       " 'Isso ficou a cargo das mensagens que circularam por aí.',\n",
       " 'Resumindo: não é possível dizer que Arthur Lira fraudou a votação do voto impresso.',\n",
       " 'Além de os vídeos não provarem nada contra o presidente da Câmara, os votos em questão não fariam diferença na aprovação ou não da Proposta de Emenda à Constituição.',\n",
       " 'Ps.',\n",
       " ': Esse artigo é uma sugestão de leitores do Boatos.org.',\n",
       " 'Se você quiser sugerir um tema ao Boatos.org, entre em contato com a gente pelo site, Facebook e WhatsApp no telefone (61) 99458-8494.',\n",
       " 'Ps2: Confira a nossa nova seção “Oportunidades” clicando aqui.',\n",
       " 'Na página, você pode acesso a promoções, descontos e sites que dão brindes.']"
      ]
     },
     "execution_count": 13,
     "metadata": {},
     "output_type": "execute_result"
    }
   ],
   "source": [
    "articlePhrases = nltk.sent_tokenize(article)\n",
    "articlePhrases"
   ]
  },
  {
   "cell_type": "code",
   "execution_count": 14,
   "metadata": {},
   "outputs": [],
   "source": [
    "def ratePhrases(phrases, wordsScore):\n",
    "  phrasesScore = {}\n",
    "\n",
    "  for phrase in phrases:\n",
    "    phraseWasNotRated = (phrase not in phrasesScore.keys())\n",
    "\n",
    "    if phraseWasNotRated:\n",
    "      phrasesScore[phrase] = ratePhrase(phrase, wordsScore)\n",
    "    else:\n",
    "      phrasesScore[phrase] += ratePhrase(phrase, wordsScore)\n",
    "\n",
    "  return phrasesScore\n",
    "\n",
    "def ratePhrase(phrase, wordsScore):\n",
    "  phraseWords = nltk.word_tokenize(phrase.lower())\n",
    "  phraseScore = 0\n",
    "\n",
    "  for word in phraseWords:\n",
    "    wordWasRated = (word in wordsScore.keys())\n",
    "\n",
    "    if wordWasRated:\n",
    "      phraseScore += wordsScore[word]\n",
    "  \n",
    "  return phraseScore"
   ]
  },
  {
   "cell_type": "code",
   "execution_count": 15,
   "metadata": {},
   "outputs": [
    {
     "data": {
      "text/plain": [
       "{'Arthur Lira fraudou a votação sobre voto impresso na Câmara #boato.': 5.466666666666667,\n",
       " 'Boato – Está comprovado que a votação sobre o voto impresso na Câmara dos Deputados foi fraudada por Arthur Lira.': 6.066666666666666,\n",
       " 'Isso porque alguns deputados não conseguiram votar.': 1.6666666666666665,\n",
       " 'Já faz uma semana que a PEC que previa voto impresso nas eleições de 2022 foi rejeitada na Câmara.': 3.066666666666667,\n",
       " 'Mesmo assim, o assunto continua a todo vapor nas redes sociais bolsonaristas.': 0.6666666666666666,\n",
       " 'E a última história que apareceu por aí aponta para uma suposta fraude no (vejam a ironia) sistema eletrônico de votação na sessão que apreciou a proposta do voto impresso.': 4.666666666666667,\n",
       " 'Depois que alguns deputados reclamaram que não conseguiram votar na sessão que decidia sobre o voto impresso em 2022, começou a circular na internet uma mensagem acusando o presidente da Câmara dos Deputados, Arthur Lira, de fraudar a votação.': 8.6,\n",
       " 'Leia algumas das mensagens que estão circulando por aí:\\n\\nVersão 1: *BOMBA !': 1.1333333333333333,\n",
       " '!!': 0,\n",
       " '* LIRA *FRAUDOU* A VOTAÇÃO… BRASÍLIA VAI EXPLODIR!!!': 1.5333333333333332,\n",
       " 'VOTO IMPRESSO AUDITÁVEL!': 1.8666666666666667,\n",
       " 'Não perdemos, fomos roubados mais uma vez!': 0.2,\n",
       " 'Se há fraude na votação na Câmara dos Deputados, imagina nas eleições Presidenciais!!!': 2.8000000000000003,\n",
       " 'Versão 2: BOMBA !': 0.4666666666666667,\n",
       " 'BOMBA !': 0.3333333333333333,\n",
       " '!BOMBA BOMBA.': 0.6666666666666666,\n",
       " 'LIRA *FRAUDOU* A VOTAÇÃO… BRASÍLIA VAI EXPLODIR!!!': 1.5333333333333332,\n",
       " 'A mensagem com a acusação contra o presidente da Câmara dos Deputados se espalhou com toda força na internet.': 2.733333333333334,\n",
       " 'Só há um detalhe: os vídeos que acompanham a mensagem não provam que houve “fraude” na votação sobre o voto impresso e tampouco as reclamações apresentadas fariam diferença no resultado final.': 5.800000000000001,\n",
       " 'A mensagem e o histórico desse tipo de fake já começam a denotar a farsa.': 0.7999999999999999,\n",
       " 'O texto tem algumas das principais características de boatos online como ser vaga, alarmista, com erros de português e não citam nenhuma fonte confiável que comprove que “houve fraude” no sistema eletrônico de votação na Câmara.': 4.2,\n",
       " 'Além disso, os boatos sobre o assunto foram tantos que o “voto impresso” foi até tema de um A Semana em Fakes por aqui.': 3.933333333333333,\n",
       " 'Ao analisar o conteúdo que “justificaria” os protestos, vimos que não é possível aferir que Arthur Lira fraudou o sistema eletrônico de votação da Câmara dos Deputados.': 5.6000000000000005,\n",
       " 'Ao todo, achamos três reclamações sobre o sistema de voto (dois aparecem em vídeos que estão circulando junto com a mensagem).': 3.333333333333334,\n",
       " 'Uma delas é do deputado federal Fernando Rodolfo (PL-PE).': 0.39999999999999997,\n",
       " 'Ele acabou registrando o voto por meio de requerimento impresso.': 2.0666666666666664,\n",
       " 'Outra é do deputado Marcelo Álvaro Antônio (PSL-MG), que apontou que não conseguiu votar.': 1.1333333333333333,\n",
       " 'Uma terceira reclamação é da deputada Angela Amin (PP-SC) que apontou que votou por engano contra o voto impresso e não conseguiu retificar o voto.': 3.9333333333333336,\n",
       " 'Mesmo que os três casos sejam procedentes, não há como provar que há culpa de Arthur Lira nos problemas com a votação e também eles não fariam diferença no resultado final da votação sobre o sistema eleitoral para 2022.': 5.066666666666666,\n",
       " 'Para ser aceita, a proposta precisaria, em dois turnos, ter 308 votos.': 1.0666666666666667,\n",
       " 'Ao todos, foram conquistados 229 votos.': 0.5333333333333333,\n",
       " 'Mais 79 deputados precisariam votar a favor da proposta para que ela passasse.': 1.7333333333333332,\n",
       " 'Ou seja: os três votos citados não fariam diferença.': 1.1333333333333333,\n",
       " 'Vale apontar que, mesmo que todos os deputados que não conseguiram votar fossem a favor do voto impresso, seriam alcançados 293 votos (insuficiente para a aprovação).': 4.2,\n",
       " 'Isso porque 218 deputados votaram contra a proposta, um se absteve e o voto do presidente da Câmara Arthur Lira, de acordo com regimento da Casa, só valeria como desempate.': 5.133333333333332,\n",
       " 'É importante citar que, em nenhum momento, os deputados que apontaram que não conseguiram votar acusaram Arthur Lira de fraudar o sistema de votação da Câmara.': 5.066666666666666,\n",
       " 'Isso ficou a cargo das mensagens que circularam por aí.': 0.5333333333333333,\n",
       " 'Resumindo: não é possível dizer que Arthur Lira fraudou a votação do voto impresso.': 4.4,\n",
       " 'Além de os vídeos não provarem nada contra o presidente da Câmara, os votos em questão não fariam diferença na aprovação ou não da Proposta de Emenda à Constituição.': 3.2666666666666675,\n",
       " 'Ps.': 0.06666666666666667,\n",
       " ': Esse artigo é uma sugestão de leitores do Boatos.org.': 0.33333333333333337,\n",
       " 'Se você quiser sugerir um tema ao Boatos.org, entre em contato com a gente pelo site, Facebook e WhatsApp no telefone (61) 99458-8494.': 0.7999999999999999,\n",
       " 'Ps2: Confira a nossa nova seção “Oportunidades” clicando aqui.': 1.2,\n",
       " 'Na página, você pode acesso a promoções, descontos e sites que dão brindes.': 0.5333333333333333}"
      ]
     },
     "execution_count": 15,
     "metadata": {},
     "output_type": "execute_result"
    }
   ],
   "source": [
    "phrasesScore = ratePhrases(articlePhrases, wordsProportionalFrequencies)\n",
    "phrasesScore"
   ]
  },
  {
   "cell_type": "code",
   "execution_count": 16,
   "metadata": {},
   "outputs": [],
   "source": [
    "import heapq"
   ]
  },
  {
   "cell_type": "code",
   "execution_count": 17,
   "metadata": {},
   "outputs": [
    {
     "data": {
      "text/plain": [
       "['Depois que alguns deputados reclamaram que não conseguiram votar na sessão que decidia sobre o voto impresso em 2022, começou a circular na internet uma mensagem acusando o presidente da Câmara dos Deputados, Arthur Lira, de fraudar a votação.',\n",
       " 'Boato – Está comprovado que a votação sobre o voto impresso na Câmara dos Deputados foi fraudada por Arthur Lira.',\n",
       " 'Só há um detalhe: os vídeos que acompanham a mensagem não provam que houve “fraude” na votação sobre o voto impresso e tampouco as reclamações apresentadas fariam diferença no resultado final.',\n",
       " 'Ao analisar o conteúdo que “justificaria” os protestos, vimos que não é possível aferir que Arthur Lira fraudou o sistema eletrônico de votação da Câmara dos Deputados.']"
      ]
     },
     "execution_count": 17,
     "metadata": {},
     "output_type": "execute_result"
    }
   ],
   "source": [
    "bestPhrases = heapq.nlargest(int(len(phrasesScore)/10), phrasesScore, key=phrasesScore.get)\n",
    "bestPhrases"
   ]
  },
  {
   "cell_type": "code",
   "execution_count": 19,
   "metadata": {},
   "outputs": [
    {
     "data": {
      "text/plain": [
       "'Depois que alguns deputados reclamaram que não conseguiram votar na sessão que decidia sobre o voto impresso em 2022, começou a circular na internet uma mensagem acusando o presidente da Câmara dos Deputados, Arthur Lira, de fraudar a votação. Boato – Está comprovado que a votação sobre o voto impresso na Câmara dos Deputados foi fraudada por Arthur Lira. Só há um detalhe: os vídeos que acompanham a mensagem não provam que houve “fraude” na votação sobre o voto impresso e tampouco as reclamações apresentadas fariam diferença no resultado final. Ao analisar o conteúdo que “justificaria” os protestos, vimos que não é possível aferir que Arthur Lira fraudou o sistema eletrônico de votação da Câmara dos Deputados.'"
      ]
     },
     "execution_count": 19,
     "metadata": {},
     "output_type": "execute_result"
    }
   ],
   "source": [
    "' '.join(bestPhrases)"
   ]
  }
 ],
 "metadata": {
  "kernelspec": {
   "display_name": "Python 3",
   "language": "python",
   "name": "python3"
  },
  "language_info": {
   "codemirror_mode": {
    "name": "ipython",
    "version": 3
   },
   "file_extension": ".py",
   "mimetype": "text/x-python",
   "name": "python",
   "nbconvert_exporter": "python",
   "pygments_lexer": "ipython3",
   "version": "3.10.8"
  },
  "orig_nbformat": 4
 },
 "nbformat": 4,
 "nbformat_minor": 2
}
